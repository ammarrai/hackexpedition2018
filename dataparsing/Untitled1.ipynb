{
 "cells": [
  {
   "cell_type": "code",
   "execution_count": 1,
   "metadata": {},
   "outputs": [],
   "source": [
    "# DBA data gathering \n",
    "import requests\n",
    "import json\n",
    "import pandas as pd\n",
    "from pandas.io.json import json_normalize\n",
    "import numpy as np\n",
    "from tqdm import tqdm\n",
    "import time"
   ]
  },
  {
   "cell_type": "code",
   "execution_count": 56,
   "metadata": {
    "scrolled": true
   },
   "outputs": [],
   "source": [
    "# define the set of lat long points we need \n",
    "lat = []\n",
    "lon = []\n",
    "for i in range(0,30):\n",
    "    for j in range(0,100):\n",
    "        lat.append(36+(0.1*i)) \n",
    "        lon.append(-86+(0.1*j))"
   ]
  },
  {
   "cell_type": "code",
   "execution_count": 65,
   "metadata": {},
   "outputs": [],
   "source": [
    "# get the candidates matched quantity for each lat long value \n",
    "# these guys use pagenation . \n",
    "vals = []\n",
    "for i in range(0,len(lat)):\n",
    "    \n",
    "    url = 'https://plus.dnb.com/v1/search/criteria'\n",
    "    data = { \"locationRadius\":{\"lat\":lat[i],\"lon\":lon[i],\"radius\":5,\"unit\":\"km\"},\"pageSize\": 20, \"pageNumber\": 1 }\n",
    "    headers = {'Content-type': 'application/json', 'Authorization': 'Bearer NO'}\n",
    "\n",
    "    r = requests.post(url, data=json.dumps(data), headers=headers)\n",
    "    data = json.loads(r.content)\n",
    "    \n",
    "    try:\n",
    "        vals.append(data['candidatesMatchedQuantity'])\n",
    "    except KeyError:\n",
    "        vals.append(0)"
   ]
  },
  {
   "cell_type": "code",
   "execution_count": 77,
   "metadata": {},
   "outputs": [
    {
     "name": "stderr",
     "output_type": "stream",
     "text": [
      "C:\\Users\\raosa\\Anaconda3\\envs\\tfp3.6\\lib\\site-packages\\ipykernel_launcher.py:8: SettingWithCopyWarning: \n",
      "A value is trying to be set on a copy of a slice from a DataFrame\n",
      "\n",
      "See the caveats in the documentation: http://pandas.pydata.org/pandas-docs/stable/indexing.html#indexing-view-versus-copy\n",
      "  \n"
     ]
    }
   ],
   "source": [
    "df = pd.DataFrame()\n",
    "\n",
    "df['lat'] = lat\n",
    "df['lon'] = lon \n",
    "df['vals'] = vals\n",
    "df['valsdivided'] = df['vals']/20\n",
    "for i in range(0,len(df)):\n",
    "    df['valsdivided'][i] = int(df['valsdivided'][i])\n"
   ]
  },
  {
   "cell_type": "code",
   "execution_count": 162,
   "metadata": {},
   "outputs": [],
   "source": [
    "# load a initial database to append stuff to \n",
    "\n",
    "database = pd.read_csv('1.csv')"
   ]
  },
  {
   "cell_type": "code",
   "execution_count": 163,
   "metadata": {},
   "outputs": [],
   "source": [
    "df['valsdivided']=df['valsdivided'].astype(np.int64)"
   ]
  },
  {
   "cell_type": "code",
   "execution_count": null,
   "metadata": {},
   "outputs": [],
   "source": []
  },
  {
   "cell_type": "code",
   "execution_count": 164,
   "metadata": {},
   "outputs": [
    {
     "name": "stderr",
     "output_type": "stream",
     "text": [
      " 20%|█▉        | 198/999 [00:03<00:15, 52.19it/s] "
     ]
    },
    {
     "name": "stdout",
     "output_type": "stream",
     "text": [
      "2200\n"
     ]
    },
    {
     "name": "stderr",
     "output_type": "stream",
     "text": [
      "\r",
      " 20%|█▉        | 198/999 [00:20<01:20,  9.90it/s]"
     ]
    },
    {
     "name": "stdout",
     "output_type": "stream",
     "text": [
      "2200\n",
      "2200\n",
      "2200\n",
      "2200\n",
      "2200\n",
      "2200\n",
      "2200\n",
      "2200\n",
      "2200\n",
      "2200\n",
      "2200\n",
      "2200\n",
      "2200\n",
      "2200\n",
      "2200\n",
      "2200\n",
      "2200\n",
      "2200\n"
     ]
    },
    {
     "name": "stderr",
     "output_type": "stream",
     "text": [
      " 30%|██▉       | 296/999 [20:22<48:23,  4.13s/it]  "
     ]
    },
    {
     "name": "stdout",
     "output_type": "stream",
     "text": [
      "2300\n",
      "2300\n",
      "2300\n",
      "2300\n",
      "2300\n",
      "2300\n",
      "2300\n",
      "2300\n",
      "2300\n",
      "2300\n",
      "2300\n",
      "2300\n",
      "2300\n",
      "2300\n",
      "2300\n",
      "2300\n",
      "2300\n",
      "2300\n",
      "2300\n",
      "2300\n",
      "2300\n",
      "2300\n",
      "2300\n",
      "2300\n",
      "2300\n"
     ]
    },
    {
     "name": "stderr",
     "output_type": "stream",
     "text": [
      " 80%|███████▉  | 799/999 [55:23<13:52,  4.16s/it]  "
     ]
    },
    {
     "name": "stdout",
     "output_type": "stream",
     "text": [
      "2800\n",
      "2800\n",
      "2800\n"
     ]
    },
    {
     "name": "stderr",
     "output_type": "stream",
     "text": [
      "100%|██████████| 999/999 [1:42:51<00:00,  6.18s/it]\n"
     ]
    }
   ],
   "source": [
    "for i in tqdm(range(2001,3000)):\n",
    "    for j in range(1,df['valsdivided'][i]):\n",
    "        url = 'https://plus.dnb.com/v1/search/criteria'\n",
    "        data = { \"locationRadius\":{\"lat\":lat[i],\"lon\":lon[i],\"radius\":5,\"unit\":\"km\"},\"pageSize\": 20, \"pageNumber\":j}\n",
    "        headers = {'Content-type': 'application/json', 'Authorization': 'Bearer NO'}\n",
    "\n",
    "        r = requests.post(url, data=json.dumps(data), headers=headers)\n",
    "        data = json.loads(r.content)\n",
    "        try:\n",
    "            data = data['searchCandidates']\n",
    "            flattendata = json_normalize(data)\n",
    "            database = database.append(flattendata)\n",
    "        except KeyError:\n",
    "            continue\n",
    "        if(i%50==0):\n",
    "            print(i)\n",
    "            time.sleep(40)\n",
    "        "
   ]
  },
  {
   "cell_type": "code",
   "execution_count": 165,
   "metadata": {},
   "outputs": [],
   "source": [
    "# url = 'https://plus.dnb.com/v1/search/criteria'\n",
    "# data = { \"locationRadius\":{\"lat\":lat[3],\"lon\":lon[3],\"radius\":5,\"unit\":\"km\"},\"pageSize\": 20, \"pageNumber\": 2 }\n",
    "# headers = {'Content-type': 'application/json', 'Authorization': 'Bearer NO'}\n",
    "\n",
    "# r = requests.post(url, data=json.dumps(data), headers=headers)\n",
    "# data = json.loads(r.content)\n",
    "# data = data['searchCandidates']\n",
    "# flattendata = json_normalize(data)\n",
    "# flattendata\n",
    "\n",
    "database.to_csv('4.csv')"
   ]
  },
  {
   "cell_type": "code",
   "execution_count": 73,
   "metadata": {},
   "outputs": [
    {
     "data": {
      "text/html": [
       "<div>\n",
       "<style scoped>\n",
       "    .dataframe tbody tr th:only-of-type {\n",
       "        vertical-align: middle;\n",
       "    }\n",
       "\n",
       "    .dataframe tbody tr th {\n",
       "        vertical-align: top;\n",
       "    }\n",
       "\n",
       "    .dataframe thead th {\n",
       "        text-align: right;\n",
       "    }\n",
       "</style>\n",
       "<table border=\"1\" class=\"dataframe\">\n",
       "  <thead>\n",
       "    <tr style=\"text-align: right;\">\n",
       "      <th></th>\n",
       "      <th>displaySequence</th>\n",
       "      <th>organization.businessEntityType.description</th>\n",
       "      <th>organization.businessEntityType.dnbCode</th>\n",
       "      <th>organization.corporateLinkage.familytreeRolesPlayed</th>\n",
       "      <th>organization.corporateLinkage.globalUltimateFamilyTreeMembersCount</th>\n",
       "      <th>organization.corporateLinkage.isBranch</th>\n",
       "      <th>organization.domain</th>\n",
       "      <th>organization.duns</th>\n",
       "      <th>organization.dunsControlStatus.isMailUndeliverable</th>\n",
       "      <th>organization.dunsControlStatus.isMarketable</th>\n",
       "      <th>...</th>\n",
       "      <th>organization.primaryAddress.addressRegion.name</th>\n",
       "      <th>organization.primaryAddress.latitude</th>\n",
       "      <th>organization.primaryAddress.longitude</th>\n",
       "      <th>organization.primaryAddress.postalCode</th>\n",
       "      <th>organization.primaryAddress.streetAddress.line1</th>\n",
       "      <th>organization.primaryIndustryCodes</th>\n",
       "      <th>organization.primaryName</th>\n",
       "      <th>organization.registrationNumbers</th>\n",
       "      <th>organization.telephone</th>\n",
       "      <th>organization.tradeStyleNames</th>\n",
       "    </tr>\n",
       "  </thead>\n",
       "  <tbody>\n",
       "    <tr>\n",
       "      <th>0</th>\n",
       "      <td>1</td>\n",
       "      <td>Unknown</td>\n",
       "      <td>0</td>\n",
       "      <td>[{'description': 'Branch/Division', 'dnbCode':...</td>\n",
       "      <td>2.0</td>\n",
       "      <td>True</td>\n",
       "      <td>diplomattravel.com</td>\n",
       "      <td>166120857</td>\n",
       "      <td>True</td>\n",
       "      <td>False</td>\n",
       "      <td>...</td>\n",
       "      <td>Virginia</td>\n",
       "      <td>38.959928</td>\n",
       "      <td>-77.354286</td>\n",
       "      <td>20191</td>\n",
       "      <td>1809 RESTON PKWY STE 200</td>\n",
       "      <td>[{'usSicV4': '4724', 'usSicV4Description': 'Tr...</td>\n",
       "      <td>TMC Group Inc.</td>\n",
       "      <td>NaN</td>\n",
       "      <td>[{'telephoneNumber': '7033189646'}]</td>\n",
       "      <td>[{'name': 'Diplomat Travel Services', 'priorit...</td>\n",
       "    </tr>\n",
       "    <tr>\n",
       "      <th>1</th>\n",
       "      <td>2</td>\n",
       "      <td>Unknown</td>\n",
       "      <td>0</td>\n",
       "      <td>NaN</td>\n",
       "      <td>NaN</td>\n",
       "      <td>False</td>\n",
       "      <td>NaN</td>\n",
       "      <td>133672316</td>\n",
       "      <td>False</td>\n",
       "      <td>False</td>\n",
       "      <td>...</td>\n",
       "      <td>Virginia</td>\n",
       "      <td>38.960018</td>\n",
       "      <td>-77.354279</td>\n",
       "      <td>20190</td>\n",
       "      <td>1803 RESTON PKWY</td>\n",
       "      <td>[{'usSicV4': '7623', 'usSicV4Description': 'Re...</td>\n",
       "      <td>Atlas Air Condition</td>\n",
       "      <td>NaN</td>\n",
       "      <td>[{'telephoneNumber': '7034718697'}]</td>\n",
       "      <td>NaN</td>\n",
       "    </tr>\n",
       "    <tr>\n",
       "      <th>2</th>\n",
       "      <td>3</td>\n",
       "      <td>Partnership</td>\n",
       "      <td>452</td>\n",
       "      <td>NaN</td>\n",
       "      <td>NaN</td>\n",
       "      <td>False</td>\n",
       "      <td>NaN</td>\n",
       "      <td>877464867</td>\n",
       "      <td>False</td>\n",
       "      <td>False</td>\n",
       "      <td>...</td>\n",
       "      <td>Virginia</td>\n",
       "      <td>38.960048</td>\n",
       "      <td>-77.354276</td>\n",
       "      <td>201903389</td>\n",
       "      <td>1801 RESTON PKWY</td>\n",
       "      <td>[{'usSicV4': '6531', 'usSicV4Description': 'Re...</td>\n",
       "      <td>Old Reston Limited Partnership</td>\n",
       "      <td>NaN</td>\n",
       "      <td>NaN</td>\n",
       "      <td>NaN</td>\n",
       "    </tr>\n",
       "    <tr>\n",
       "      <th>3</th>\n",
       "      <td>4</td>\n",
       "      <td>Unknown</td>\n",
       "      <td>0</td>\n",
       "      <td>[{'description': 'Branch/Division', 'dnbCode':...</td>\n",
       "      <td>1332.0</td>\n",
       "      <td>True</td>\n",
       "      <td>redcapital.com</td>\n",
       "      <td>1731277</td>\n",
       "      <td>False</td>\n",
       "      <td>True</td>\n",
       "      <td>...</td>\n",
       "      <td>Virginia</td>\n",
       "      <td>38.959015</td>\n",
       "      <td>-77.355505</td>\n",
       "      <td>201905661</td>\n",
       "      <td>1750 PRESIDENTS ST STE 200</td>\n",
       "      <td>[{'usSicV4': '6282', 'usSicV4Description': 'In...</td>\n",
       "      <td>Red Capital Partners, LLC</td>\n",
       "      <td>NaN</td>\n",
       "      <td>[{'telephoneNumber': '7033184200'}]</td>\n",
       "      <td>NaN</td>\n",
       "    </tr>\n",
       "    <tr>\n",
       "      <th>4</th>\n",
       "      <td>5</td>\n",
       "      <td>Partnership</td>\n",
       "      <td>452</td>\n",
       "      <td>NaN</td>\n",
       "      <td>NaN</td>\n",
       "      <td>False</td>\n",
       "      <td>NaN</td>\n",
       "      <td>35470629</td>\n",
       "      <td>False</td>\n",
       "      <td>False</td>\n",
       "      <td>...</td>\n",
       "      <td>Virginia</td>\n",
       "      <td>38.959015</td>\n",
       "      <td>-77.355505</td>\n",
       "      <td>201905618</td>\n",
       "      <td>1750 PRESIDENTS ST STE 300</td>\n",
       "      <td>[{'usSicV4': '8712', 'usSicV4Description': 'Ar...</td>\n",
       "      <td>Tobey &amp; Davis (jv)</td>\n",
       "      <td>NaN</td>\n",
       "      <td>[{'telephoneNumber': '7033185000'}]</td>\n",
       "      <td>NaN</td>\n",
       "    </tr>\n",
       "  </tbody>\n",
       "</table>\n",
       "<p>5 rows × 27 columns</p>\n",
       "</div>"
      ],
      "text/plain": [
       "   displaySequence organization.businessEntityType.description  \\\n",
       "0                1                                     Unknown   \n",
       "1                2                                     Unknown   \n",
       "2                3                                 Partnership   \n",
       "3                4                                     Unknown   \n",
       "4                5                                 Partnership   \n",
       "\n",
       "   organization.businessEntityType.dnbCode  \\\n",
       "0                                        0   \n",
       "1                                        0   \n",
       "2                                      452   \n",
       "3                                        0   \n",
       "4                                      452   \n",
       "\n",
       "  organization.corporateLinkage.familytreeRolesPlayed  \\\n",
       "0  [{'description': 'Branch/Division', 'dnbCode':...    \n",
       "1                                                NaN    \n",
       "2                                                NaN    \n",
       "3  [{'description': 'Branch/Division', 'dnbCode':...    \n",
       "4                                                NaN    \n",
       "\n",
       "   organization.corporateLinkage.globalUltimateFamilyTreeMembersCount  \\\n",
       "0                                                2.0                    \n",
       "1                                                NaN                    \n",
       "2                                                NaN                    \n",
       "3                                             1332.0                    \n",
       "4                                                NaN                    \n",
       "\n",
       "   organization.corporateLinkage.isBranch organization.domain  \\\n",
       "0                                    True  diplomattravel.com   \n",
       "1                                   False                 NaN   \n",
       "2                                   False                 NaN   \n",
       "3                                    True      redcapital.com   \n",
       "4                                   False                 NaN   \n",
       "\n",
       "   organization.duns  organization.dunsControlStatus.isMailUndeliverable  \\\n",
       "0          166120857                                               True    \n",
       "1          133672316                                              False    \n",
       "2          877464867                                              False    \n",
       "3            1731277                                              False    \n",
       "4           35470629                                              False    \n",
       "\n",
       "   organization.dunsControlStatus.isMarketable  \\\n",
       "0                                        False   \n",
       "1                                        False   \n",
       "2                                        False   \n",
       "3                                         True   \n",
       "4                                        False   \n",
       "\n",
       "                         ...                          \\\n",
       "0                        ...                           \n",
       "1                        ...                           \n",
       "2                        ...                           \n",
       "3                        ...                           \n",
       "4                        ...                           \n",
       "\n",
       "   organization.primaryAddress.addressRegion.name  \\\n",
       "0                                        Virginia   \n",
       "1                                        Virginia   \n",
       "2                                        Virginia   \n",
       "3                                        Virginia   \n",
       "4                                        Virginia   \n",
       "\n",
       "  organization.primaryAddress.latitude organization.primaryAddress.longitude  \\\n",
       "0                            38.959928                            -77.354286   \n",
       "1                            38.960018                            -77.354279   \n",
       "2                            38.960048                            -77.354276   \n",
       "3                            38.959015                            -77.355505   \n",
       "4                            38.959015                            -77.355505   \n",
       "\n",
       "  organization.primaryAddress.postalCode  \\\n",
       "0                                  20191   \n",
       "1                                  20190   \n",
       "2                              201903389   \n",
       "3                              201905661   \n",
       "4                              201905618   \n",
       "\n",
       "  organization.primaryAddress.streetAddress.line1  \\\n",
       "0                        1809 RESTON PKWY STE 200   \n",
       "1                                1803 RESTON PKWY   \n",
       "2                                1801 RESTON PKWY   \n",
       "3                      1750 PRESIDENTS ST STE 200   \n",
       "4                      1750 PRESIDENTS ST STE 300   \n",
       "\n",
       "                   organization.primaryIndustryCodes  \\\n",
       "0  [{'usSicV4': '4724', 'usSicV4Description': 'Tr...   \n",
       "1  [{'usSicV4': '7623', 'usSicV4Description': 'Re...   \n",
       "2  [{'usSicV4': '6531', 'usSicV4Description': 'Re...   \n",
       "3  [{'usSicV4': '6282', 'usSicV4Description': 'In...   \n",
       "4  [{'usSicV4': '8712', 'usSicV4Description': 'Ar...   \n",
       "\n",
       "         organization.primaryName organization.registrationNumbers  \\\n",
       "0                  TMC Group Inc.                              NaN   \n",
       "1             Atlas Air Condition                              NaN   \n",
       "2  Old Reston Limited Partnership                              NaN   \n",
       "3       Red Capital Partners, LLC                              NaN   \n",
       "4              Tobey & Davis (jv)                              NaN   \n",
       "\n",
       "                organization.telephone  \\\n",
       "0  [{'telephoneNumber': '7033189646'}]   \n",
       "1  [{'telephoneNumber': '7034718697'}]   \n",
       "2                                  NaN   \n",
       "3  [{'telephoneNumber': '7033184200'}]   \n",
       "4  [{'telephoneNumber': '7033185000'}]   \n",
       "\n",
       "                        organization.tradeStyleNames  \n",
       "0  [{'name': 'Diplomat Travel Services', 'priorit...  \n",
       "1                                                NaN  \n",
       "2                                                NaN  \n",
       "3                                                NaN  \n",
       "4                                                NaN  \n",
       "\n",
       "[5 rows x 27 columns]"
      ]
     },
     "execution_count": 73,
     "metadata": {},
     "output_type": "execute_result"
    }
   ],
   "source": []
  },
  {
   "cell_type": "code",
   "execution_count": 50,
   "metadata": {},
   "outputs": [
    {
     "data": {
      "text/plain": [
       "1921.2"
      ]
     },
     "execution_count": 50,
     "metadata": {},
     "output_type": "execute_result"
    }
   ],
   "source": [
    "\n",
    "\n",
    "#data = data['searchCandidates']\n",
    "#data"
   ]
  },
  {
   "cell_type": "code",
   "execution_count": 25,
   "metadata": {},
   "outputs": [],
   "source": []
  },
  {
   "cell_type": "code",
   "execution_count": 168,
   "metadata": {},
   "outputs": [],
   "source": []
  },
  {
   "cell_type": "code",
   "execution_count": 170,
   "metadata": {},
   "outputs": [
    {
     "data": {
      "text/html": [
       "<div>\n",
       "<style scoped>\n",
       "    .dataframe tbody tr th:only-of-type {\n",
       "        vertical-align: middle;\n",
       "    }\n",
       "\n",
       "    .dataframe tbody tr th {\n",
       "        vertical-align: top;\n",
       "    }\n",
       "\n",
       "    .dataframe thead th {\n",
       "        text-align: right;\n",
       "    }\n",
       "</style>\n",
       "<table border=\"1\" class=\"dataframe\">\n",
       "  <thead>\n",
       "    <tr style=\"text-align: right;\">\n",
       "      <th></th>\n",
       "      <th>inquiryDetail.duns</th>\n",
       "      <th>inquiryDetail.productID</th>\n",
       "      <th>inquiryDetail.productVersion</th>\n",
       "      <th>organization.businessEntityType.description</th>\n",
       "      <th>organization.businessEntityType.dnbCode</th>\n",
       "      <th>organization.controlOwnershipDate</th>\n",
       "      <th>organization.corporateLinkage.domesticUltimate.duns</th>\n",
       "      <th>organization.corporateLinkage.domesticUltimate.primaryAddress.addressCountry.fipsCode</th>\n",
       "      <th>organization.corporateLinkage.domesticUltimate.primaryAddress.addressCountry.isoAlpha2Code</th>\n",
       "      <th>organization.corporateLinkage.domesticUltimate.primaryAddress.addressCountry.name</th>\n",
       "      <th>...</th>\n",
       "      <th>organization.stockExchanges</th>\n",
       "      <th>organization.telephone</th>\n",
       "      <th>organization.thirdPartyAssessment</th>\n",
       "      <th>organization.tradeStyleNames</th>\n",
       "      <th>organization.websiteAddress</th>\n",
       "      <th>transactionDetail.inLanguage</th>\n",
       "      <th>transactionDetail.productID</th>\n",
       "      <th>transactionDetail.productVersion</th>\n",
       "      <th>transactionDetail.transactionID</th>\n",
       "      <th>transactionDetail.transactionTimestamp</th>\n",
       "    </tr>\n",
       "  </thead>\n",
       "  <tbody>\n",
       "    <tr>\n",
       "      <th>0</th>\n",
       "      <td>166120857</td>\n",
       "      <td>cmpelk</td>\n",
       "      <td>v2</td>\n",
       "      <td>Unknown</td>\n",
       "      <td>0</td>\n",
       "      <td>None</td>\n",
       "      <td>049506561</td>\n",
       "      <td>US</td>\n",
       "      <td>US</td>\n",
       "      <td>United States</td>\n",
       "      <td>...</td>\n",
       "      <td>[]</td>\n",
       "      <td>[{'telephoneNumber': '7033189646', 'isdCode': ...</td>\n",
       "      <td>[]</td>\n",
       "      <td>[{'name': 'Diplomat Travel Services', 'priorit...</td>\n",
       "      <td>[{'url': 'www.diplomattravel.com', 'domainName...</td>\n",
       "      <td>en-US</td>\n",
       "      <td>cmpelk</td>\n",
       "      <td>2</td>\n",
       "      <td>rrt-051d25cbd8f15f5a9-b-ea-16700-46225664-41_675</td>\n",
       "      <td>2018-04-15T10:16:34.638Z</td>\n",
       "    </tr>\n",
       "  </tbody>\n",
       "</table>\n",
       "<p>1 rows × 106 columns</p>\n",
       "</div>"
      ],
      "text/plain": [
       "  inquiryDetail.duns inquiryDetail.productID inquiryDetail.productVersion  \\\n",
       "0          166120857                  cmpelk                           v2   \n",
       "\n",
       "  organization.businessEntityType.description  \\\n",
       "0                                     Unknown   \n",
       "\n",
       "   organization.businessEntityType.dnbCode organization.controlOwnershipDate  \\\n",
       "0                                        0                              None   \n",
       "\n",
       "  organization.corporateLinkage.domesticUltimate.duns  \\\n",
       "0                                          049506561    \n",
       "\n",
       "  organization.corporateLinkage.domesticUltimate.primaryAddress.addressCountry.fipsCode  \\\n",
       "0                                                 US                                      \n",
       "\n",
       "  organization.corporateLinkage.domesticUltimate.primaryAddress.addressCountry.isoAlpha2Code  \\\n",
       "0                                                 US                                           \n",
       "\n",
       "  organization.corporateLinkage.domesticUltimate.primaryAddress.addressCountry.name  \\\n",
       "0                                      United States                                  \n",
       "\n",
       "                   ...                   organization.stockExchanges  \\\n",
       "0                  ...                                            []   \n",
       "\n",
       "                              organization.telephone  \\\n",
       "0  [{'telephoneNumber': '7033189646', 'isdCode': ...   \n",
       "\n",
       "  organization.thirdPartyAssessment  \\\n",
       "0                                []   \n",
       "\n",
       "                        organization.tradeStyleNames  \\\n",
       "0  [{'name': 'Diplomat Travel Services', 'priorit...   \n",
       "\n",
       "                         organization.websiteAddress  \\\n",
       "0  [{'url': 'www.diplomattravel.com', 'domainName...   \n",
       "\n",
       "  transactionDetail.inLanguage transactionDetail.productID  \\\n",
       "0                        en-US                      cmpelk   \n",
       "\n",
       "  transactionDetail.productVersion  \\\n",
       "0                                2   \n",
       "\n",
       "                    transactionDetail.transactionID  \\\n",
       "0  rrt-051d25cbd8f15f5a9-b-ea-16700-46225664-41_675   \n",
       "\n",
       "  transactionDetail.transactionTimestamp  \n",
       "0               2018-04-15T10:16:34.638Z  \n",
       "\n",
       "[1 rows x 106 columns]"
      ]
     },
     "execution_count": 170,
     "metadata": {},
     "output_type": "execute_result"
    }
   ],
   "source": []
  },
  {
   "cell_type": "code",
   "execution_count": 26,
   "metadata": {},
   "outputs": [],
   "source": [
    "# get company specific information \n",
    "data = pd.read_csv('rachelzipcodetobefed.csv')\n",
    "database = pd.read_csv('2.csv')"
   ]
  },
  {
   "cell_type": "code",
   "execution_count": 27,
   "metadata": {},
   "outputs": [],
   "source": [
    "lulz = data['orgduns']"
   ]
  },
  {
   "cell_type": "code",
   "execution_count": 28,
   "metadata": {},
   "outputs": [
    {
     "name": "stderr",
     "output_type": "stream",
     "text": [
      "\r",
      "  0%|          | 0/2461 [00:00<?, ?it/s]"
     ]
    },
    {
     "name": "stdout",
     "output_type": "stream",
     "text": [
      "0\n"
     ]
    },
    {
     "name": "stderr",
     "output_type": "stream",
     "text": [
      "  2%|▏         | 50/2461 [00:49<39:33,  1.02it/s]  "
     ]
    },
    {
     "name": "stdout",
     "output_type": "stream",
     "text": [
      "50\n"
     ]
    },
    {
     "name": "stderr",
     "output_type": "stream",
     "text": [
      "  4%|▍         | 100/2461 [01:37<38:27,  1.02it/s] "
     ]
    },
    {
     "name": "stdout",
     "output_type": "stream",
     "text": [
      "100\n"
     ]
    },
    {
     "name": "stderr",
     "output_type": "stream",
     "text": [
      "  6%|▌         | 149/2461 [02:22<36:44,  1.05it/s]"
     ]
    },
    {
     "name": "stdout",
     "output_type": "stream",
     "text": [
      "150\n"
     ]
    },
    {
     "name": "stderr",
     "output_type": "stream",
     "text": [
      "  8%|▊         | 199/2461 [03:07<35:34,  1.06it/s]"
     ]
    },
    {
     "name": "stdout",
     "output_type": "stream",
     "text": [
      "200\n"
     ]
    },
    {
     "name": "stderr",
     "output_type": "stream",
     "text": [
      " 10%|█         | 250/2461 [03:52<34:16,  1.08it/s]"
     ]
    },
    {
     "name": "stdout",
     "output_type": "stream",
     "text": [
      "250\n"
     ]
    },
    {
     "name": "stderr",
     "output_type": "stream",
     "text": [
      " 12%|█▏        | 299/2461 [04:37<33:28,  1.08it/s]"
     ]
    },
    {
     "name": "stdout",
     "output_type": "stream",
     "text": [
      "300\n"
     ]
    },
    {
     "name": "stderr",
     "output_type": "stream",
     "text": [
      " 14%|█▍        | 350/2461 [05:23<32:32,  1.08it/s]"
     ]
    },
    {
     "name": "stdout",
     "output_type": "stream",
     "text": [
      "350\n"
     ]
    },
    {
     "name": "stderr",
     "output_type": "stream",
     "text": [
      " 16%|█▌        | 399/2461 [06:08<31:45,  1.08it/s]"
     ]
    },
    {
     "name": "stdout",
     "output_type": "stream",
     "text": [
      "400\n"
     ]
    },
    {
     "name": "stderr",
     "output_type": "stream",
     "text": [
      " 18%|█▊        | 450/2461 [06:53<30:47,  1.09it/s]"
     ]
    },
    {
     "name": "stdout",
     "output_type": "stream",
     "text": [
      "450\n"
     ]
    },
    {
     "name": "stderr",
     "output_type": "stream",
     "text": [
      " 20%|██        | 499/2461 [07:38<30:04,  1.09it/s]"
     ]
    },
    {
     "name": "stdout",
     "output_type": "stream",
     "text": [
      "500\n"
     ]
    },
    {
     "name": "stderr",
     "output_type": "stream",
     "text": [
      " 22%|██▏       | 549/2461 [08:23<29:13,  1.09it/s]"
     ]
    },
    {
     "name": "stdout",
     "output_type": "stream",
     "text": [
      "550\n"
     ]
    },
    {
     "name": "stderr",
     "output_type": "stream",
     "text": [
      " 24%|██▍       | 599/2461 [09:08<28:24,  1.09it/s]"
     ]
    },
    {
     "name": "stdout",
     "output_type": "stream",
     "text": [
      "600\n"
     ]
    },
    {
     "name": "stderr",
     "output_type": "stream",
     "text": [
      " 26%|██▋       | 650/2461 [09:53<27:34,  1.09it/s]"
     ]
    },
    {
     "name": "stdout",
     "output_type": "stream",
     "text": [
      "650\n"
     ]
    },
    {
     "name": "stderr",
     "output_type": "stream",
     "text": [
      " 28%|██▊       | 699/2461 [10:42<26:59,  1.09it/s]"
     ]
    },
    {
     "name": "stdout",
     "output_type": "stream",
     "text": [
      "700\n"
     ]
    },
    {
     "name": "stderr",
     "output_type": "stream",
     "text": [
      " 30%|███       | 749/2461 [11:27<26:11,  1.09it/s]"
     ]
    },
    {
     "name": "stdout",
     "output_type": "stream",
     "text": [
      "750\n"
     ]
    },
    {
     "name": "stderr",
     "output_type": "stream",
     "text": [
      " 32%|███▏      | 799/2461 [12:12<25:23,  1.09it/s]"
     ]
    },
    {
     "name": "stdout",
     "output_type": "stream",
     "text": [
      "800\n"
     ]
    },
    {
     "name": "stderr",
     "output_type": "stream",
     "text": [
      " 35%|███▍      | 850/2461 [13:00<24:39,  1.09it/s]"
     ]
    },
    {
     "name": "stdout",
     "output_type": "stream",
     "text": [
      "850\n"
     ]
    },
    {
     "name": "stderr",
     "output_type": "stream",
     "text": [
      " 37%|███▋      | 900/2461 [13:47<23:54,  1.09it/s]"
     ]
    },
    {
     "name": "stdout",
     "output_type": "stream",
     "text": [
      "900\n"
     ]
    },
    {
     "name": "stderr",
     "output_type": "stream",
     "text": [
      " 39%|███▊      | 950/2461 [14:33<23:08,  1.09it/s]"
     ]
    },
    {
     "name": "stdout",
     "output_type": "stream",
     "text": [
      "950\n"
     ]
    },
    {
     "name": "stderr",
     "output_type": "stream",
     "text": [
      " 41%|████      | 1000/2461 [15:18<22:21,  1.09it/s]"
     ]
    },
    {
     "name": "stdout",
     "output_type": "stream",
     "text": [
      "1000\n"
     ]
    },
    {
     "name": "stderr",
     "output_type": "stream",
     "text": [
      " 43%|████▎     | 1050/2461 [16:16<21:52,  1.08it/s]"
     ]
    },
    {
     "name": "stdout",
     "output_type": "stream",
     "text": [
      "1050\n"
     ]
    },
    {
     "name": "stderr",
     "output_type": "stream",
     "text": [
      " 45%|████▍     | 1100/2461 [17:01<21:03,  1.08it/s]"
     ]
    },
    {
     "name": "stdout",
     "output_type": "stream",
     "text": [
      "1100\n"
     ]
    },
    {
     "name": "stderr",
     "output_type": "stream",
     "text": [
      " 47%|████▋     | 1150/2461 [17:47<20:16,  1.08it/s]"
     ]
    },
    {
     "name": "stdout",
     "output_type": "stream",
     "text": [
      "1150\n"
     ]
    },
    {
     "name": "stderr",
     "output_type": "stream",
     "text": [
      " 49%|████▉     | 1200/2461 [18:32<19:29,  1.08it/s]"
     ]
    },
    {
     "name": "stdout",
     "output_type": "stream",
     "text": [
      "1200\n"
     ]
    },
    {
     "name": "stderr",
     "output_type": "stream",
     "text": [
      " 51%|█████     | 1249/2461 [19:20<18:46,  1.08it/s]"
     ]
    },
    {
     "name": "stdout",
     "output_type": "stream",
     "text": [
      "1250\n"
     ]
    },
    {
     "name": "stderr",
     "output_type": "stream",
     "text": [
      " 53%|█████▎    | 1300/2461 [20:05<17:56,  1.08it/s]"
     ]
    },
    {
     "name": "stdout",
     "output_type": "stream",
     "text": [
      "1300\n"
     ]
    },
    {
     "name": "stderr",
     "output_type": "stream",
     "text": [
      " 55%|█████▍    | 1349/2461 [20:55<17:14,  1.07it/s]"
     ]
    },
    {
     "name": "stdout",
     "output_type": "stream",
     "text": [
      "1350\n"
     ]
    },
    {
     "name": "stderr",
     "output_type": "stream",
     "text": [
      " 57%|█████▋    | 1400/2461 [21:40<16:25,  1.08it/s]"
     ]
    },
    {
     "name": "stdout",
     "output_type": "stream",
     "text": [
      "1400\n"
     ]
    },
    {
     "name": "stderr",
     "output_type": "stream",
     "text": [
      " 59%|█████▉    | 1449/2461 [22:25<15:39,  1.08it/s]"
     ]
    },
    {
     "name": "stdout",
     "output_type": "stream",
     "text": [
      "1450\n"
     ]
    },
    {
     "name": "stderr",
     "output_type": "stream",
     "text": [
      " 61%|██████    | 1500/2461 [23:11<14:51,  1.08it/s]"
     ]
    },
    {
     "name": "stdout",
     "output_type": "stream",
     "text": [
      "1500\n"
     ]
    },
    {
     "name": "stderr",
     "output_type": "stream",
     "text": [
      " 63%|██████▎   | 1550/2461 [23:56<14:04,  1.08it/s]"
     ]
    },
    {
     "name": "stdout",
     "output_type": "stream",
     "text": [
      "1550\n"
     ]
    },
    {
     "name": "stderr",
     "output_type": "stream",
     "text": [
      " 65%|██████▍   | 1599/2461 [24:43<13:19,  1.08it/s]"
     ]
    },
    {
     "name": "stdout",
     "output_type": "stream",
     "text": [
      "1600\n"
     ]
    },
    {
     "name": "stderr",
     "output_type": "stream",
     "text": [
      " 67%|██████▋   | 1650/2461 [25:30<12:32,  1.08it/s]"
     ]
    },
    {
     "name": "stdout",
     "output_type": "stream",
     "text": [
      "1650\n"
     ]
    },
    {
     "name": "stderr",
     "output_type": "stream",
     "text": [
      " 69%|██████▉   | 1700/2461 [26:15<11:45,  1.08it/s]"
     ]
    },
    {
     "name": "stdout",
     "output_type": "stream",
     "text": [
      "1700\n"
     ]
    },
    {
     "name": "stderr",
     "output_type": "stream",
     "text": [
      " 71%|███████   | 1750/2461 [27:01<10:58,  1.08it/s]"
     ]
    },
    {
     "name": "stdout",
     "output_type": "stream",
     "text": [
      "1750\n"
     ]
    },
    {
     "name": "stderr",
     "output_type": "stream",
     "text": [
      " 73%|███████▎  | 1800/2461 [27:47<10:12,  1.08it/s]"
     ]
    },
    {
     "name": "stdout",
     "output_type": "stream",
     "text": [
      "1800\n"
     ]
    },
    {
     "name": "stderr",
     "output_type": "stream",
     "text": [
      " 75%|███████▌  | 1850/2461 [28:33<09:25,  1.08it/s]"
     ]
    },
    {
     "name": "stdout",
     "output_type": "stream",
     "text": [
      "1850\n"
     ]
    },
    {
     "name": "stderr",
     "output_type": "stream",
     "text": [
      " 77%|███████▋  | 1899/2461 [29:19<08:40,  1.08it/s]"
     ]
    },
    {
     "name": "stdout",
     "output_type": "stream",
     "text": [
      "1900\n"
     ]
    },
    {
     "name": "stderr",
     "output_type": "stream",
     "text": [
      " 79%|███████▉  | 1949/2461 [30:05<07:54,  1.08it/s]"
     ]
    },
    {
     "name": "stdout",
     "output_type": "stream",
     "text": [
      "1950\n"
     ]
    },
    {
     "name": "stderr",
     "output_type": "stream",
     "text": [
      " 81%|████████▏ | 2000/2461 [30:54<07:07,  1.08it/s]"
     ]
    },
    {
     "name": "stdout",
     "output_type": "stream",
     "text": [
      "2000\n"
     ]
    },
    {
     "name": "stderr",
     "output_type": "stream",
     "text": [
      " 83%|████████▎ | 2050/2461 [31:41<06:21,  1.08it/s]"
     ]
    },
    {
     "name": "stdout",
     "output_type": "stream",
     "text": [
      "2050\n"
     ]
    },
    {
     "name": "stderr",
     "output_type": "stream",
     "text": [
      " 85%|████████▌ | 2100/2461 [32:28<05:34,  1.08it/s]"
     ]
    },
    {
     "name": "stdout",
     "output_type": "stream",
     "text": [
      "2100\n"
     ]
    },
    {
     "name": "stderr",
     "output_type": "stream",
     "text": [
      " 87%|████████▋ | 2149/2461 [33:15<04:49,  1.08it/s]"
     ]
    },
    {
     "name": "stdout",
     "output_type": "stream",
     "text": [
      "2150\n"
     ]
    },
    {
     "name": "stderr",
     "output_type": "stream",
     "text": [
      " 89%|████████▉ | 2200/2461 [34:01<04:02,  1.08it/s]"
     ]
    },
    {
     "name": "stdout",
     "output_type": "stream",
     "text": [
      "2200\n"
     ]
    },
    {
     "name": "stderr",
     "output_type": "stream",
     "text": [
      " 91%|█████████▏| 2250/2461 [34:48<03:15,  1.08it/s]"
     ]
    },
    {
     "name": "stdout",
     "output_type": "stream",
     "text": [
      "2250\n"
     ]
    },
    {
     "name": "stderr",
     "output_type": "stream",
     "text": [
      " 93%|█████████▎| 2300/2461 [35:39<02:29,  1.08it/s]"
     ]
    },
    {
     "name": "stdout",
     "output_type": "stream",
     "text": [
      "2300\n"
     ]
    },
    {
     "name": "stderr",
     "output_type": "stream",
     "text": [
      " 95%|█████████▌| 2350/2461 [36:24<01:43,  1.08it/s]"
     ]
    },
    {
     "name": "stdout",
     "output_type": "stream",
     "text": [
      "2350\n"
     ]
    },
    {
     "name": "stderr",
     "output_type": "stream",
     "text": [
      " 98%|█████████▊| 2400/2461 [37:14<00:56,  1.07it/s]"
     ]
    },
    {
     "name": "stdout",
     "output_type": "stream",
     "text": [
      "2400\n"
     ]
    },
    {
     "name": "stderr",
     "output_type": "stream",
     "text": [
      "100%|█████████▉| 2450/2461 [38:01<00:10,  1.07it/s]"
     ]
    },
    {
     "name": "stdout",
     "output_type": "stream",
     "text": [
      "2450\n"
     ]
    },
    {
     "name": "stderr",
     "output_type": "stream",
     "text": [
      "100%|██████████| 2461/2461 [38:42<00:00,  1.06it/s]\n"
     ]
    }
   ],
   "source": [
    "for i in tqdm(range(0,2461)):\n",
    "    url = str(str('https://plus.dnb.com/v1/data/duns/') + str(lulz[i]) + str('?productId=cmpelk&versionId=v2'))\n",
    "    headers = {'Content-type': 'application/json', 'Authorization': 'Bearer NO','Accept':'application/json'}\n",
    "    r = requests.get(url,headers=headers)\n",
    "    data = json.loads(r.content)\n",
    "    \n",
    "    try:\n",
    "        flattendata = json_normalize(data)\n",
    "        database = database.append(flattendata)\n",
    "    except KeyError:\n",
    "        continue\n",
    "    if(i%50==0):\n",
    "        print(i)\n",
    "        time.sleep(40)"
   ]
  },
  {
   "cell_type": "code",
   "execution_count": 29,
   "metadata": {},
   "outputs": [],
   "source": [
    "database.to_csv('dbapart2_1.csv',index=False)"
   ]
  },
  {
   "cell_type": "code",
   "execution_count": 30,
   "metadata": {},
   "outputs": [],
   "source": [
    "import pandas \n",
    "\n",
    "datasetdoge = pd.read_table('C:\\\\Users\\\\raosa\\\\Desktop\\\\PROJECTS\\\\trafhack\\\\zip\\\\out\\\\newfile.txt',sep='|')"
   ]
  },
  {
   "cell_type": "code",
   "execution_count": 34,
   "metadata": {},
   "outputs": [
    {
     "name": "stdout",
     "output_type": "stream",
     "text": [
      "934929\n",
      "934929\n"
     ]
    }
   ],
   "source": [
    "print(len(datasetdoge))\n",
    "datasetdoge.drop_duplicates()\n",
    "print(len(datasetdoge))\n",
    "datasetdoge.to_csv('VA_scc_locations.csv',index=False)"
   ]
  },
  {
   "cell_type": "code",
   "execution_count": 39,
   "metadata": {},
   "outputs": [],
   "source": []
  },
  {
   "cell_type": "code",
   "execution_count": 72,
   "metadata": {},
   "outputs": [
    {
     "ename": "ValueError",
     "evalue": "could not convert string to float: 'displayLatitude'",
     "output_type": "error",
     "traceback": [
      "\u001b[1;31m---------------------------------------------------------------------------\u001b[0m",
      "\u001b[1;31mValueError\u001b[0m                                Traceback (most recent call last)",
      "\u001b[1;32m<ipython-input-72-8ef957415d36>\u001b[0m in \u001b[0;36m<module>\u001b[1;34m()\u001b[0m\n\u001b[0;32m     13\u001b[0m         \u001b[0mval1\u001b[0m \u001b[1;33m=\u001b[0m \u001b[1;33m(\u001b[0m\u001b[0millegal\u001b[0m\u001b[1;33m[\u001b[0m\u001b[1;34m'lat'\u001b[0m\u001b[1;33m]\u001b[0m\u001b[1;33m[\u001b[0m\u001b[0mi\u001b[0m\u001b[1;33m]\u001b[0m\u001b[1;33m,\u001b[0m \u001b[0millegal\u001b[0m\u001b[1;33m[\u001b[0m\u001b[1;34m'lon'\u001b[0m\u001b[1;33m]\u001b[0m\u001b[1;33m[\u001b[0m\u001b[0mi\u001b[0m\u001b[1;33m]\u001b[0m\u001b[1;33m)\u001b[0m\u001b[1;33m\u001b[0m\u001b[0m\n\u001b[0;32m     14\u001b[0m \u001b[1;33m\u001b[0m\u001b[0m\n\u001b[1;32m---> 15\u001b[1;33m         \u001b[0mval2\u001b[0m \u001b[1;33m=\u001b[0m \u001b[1;33m(\u001b[0m\u001b[0mfloat\u001b[0m\u001b[1;33m(\u001b[0m\u001b[0mssc\u001b[0m\u001b[1;33m[\u001b[0m\u001b[1;34m'displayLatitude'\u001b[0m\u001b[1;33m]\u001b[0m\u001b[1;33m[\u001b[0m\u001b[0mj\u001b[0m\u001b[1;33m]\u001b[0m\u001b[1;33m)\u001b[0m \u001b[1;33m,\u001b[0m \u001b[0mfloat\u001b[0m\u001b[1;33m(\u001b[0m\u001b[0mssc\u001b[0m\u001b[1;33m[\u001b[0m\u001b[1;34m'displayLongitude'\u001b[0m\u001b[1;33m]\u001b[0m\u001b[1;33m[\u001b[0m\u001b[0mj\u001b[0m\u001b[1;33m]\u001b[0m\u001b[1;33m)\u001b[0m\u001b[1;33m)\u001b[0m\u001b[1;33m\u001b[0m\u001b[0m\n\u001b[0m\u001b[0;32m     16\u001b[0m         \u001b[0mhav\u001b[0m\u001b[1;33m.\u001b[0m\u001b[0mappend\u001b[0m\u001b[1;33m(\u001b[0m\u001b[1;33m(\u001b[0m\u001b[0mhaversine\u001b[0m\u001b[1;33m(\u001b[0m\u001b[0mval1\u001b[0m\u001b[1;33m,\u001b[0m\u001b[0mval2\u001b[0m\u001b[1;33m)\u001b[0m\u001b[1;33m)\u001b[0m\u001b[1;33m)\u001b[0m\u001b[1;33m\u001b[0m\u001b[0m\n\u001b[0;32m     17\u001b[0m \u001b[1;33m\u001b[0m\u001b[0m\n",
      "\u001b[1;31mValueError\u001b[0m: could not convert string to float: 'displayLatitude'"
     ]
    }
   ],
   "source": [
    "# get haversine distances from rachel's illegal data \n",
    "illegal = pd.read_csv('rachelillegal.csv')\n",
    "ssc = pd.read_csv('VA_scc_locations.csv')\n",
    "dba = pd.read_csv('4_1_filtered_rach.csv')\n",
    "\n",
    "# illegal : lat , lon \n",
    "# ssc : displayLatitude , displayLongitude\n",
    "# dba : organization.primaryAddress.latitude , organization.primaryAddress.longitude\n",
    "\n",
    "\n",
    "\n",
    "from haversine import haversine\n",
    "hav = []\n",
    "df = pd.DataFrame()\n",
    "for i in range(1,len(illegal)):\n",
    "    for j in range(1,len(ssc)):\n",
    "\n",
    "        val1 = (illegal['lat'][i], illegal['lon'][i])\n",
    "\n",
    "        val2 = (float(ssc['displayLatitude'][j]) , float(ssc['displayLongitude'][j]))\n",
    "        print((haversine(val1,val2)))\n",
    "\n",
    "\n",
    "\n"
   ]
  },
  {
   "cell_type": "code",
   "execution_count": 41,
   "metadata": {},
   "outputs": [
    {
     "name": "stdout",
     "output_type": "stream",
     "text": [
      "Collecting haversine\n",
      "Installing collected packages: haversine\n",
      "Successfully installed haversine-0.4.5\n"
     ]
    },
    {
     "name": "stderr",
     "output_type": "stream",
     "text": [
      "You are using pip version 9.0.3, however version 10.0.0 is available.\n",
      "You should consider upgrading via the 'python -m pip install --upgrade pip' command.\n"
     ]
    }
   ],
   "source": []
  },
  {
   "cell_type": "code",
   "execution_count": null,
   "metadata": {},
   "outputs": [],
   "source": []
  }
 ],
 "metadata": {
  "kernelspec": {
   "display_name": "Python 3",
   "language": "python",
   "name": "python3"
  },
  "language_info": {
   "codemirror_mode": {
    "name": "ipython",
    "version": 3
   },
   "file_extension": ".py",
   "mimetype": "text/x-python",
   "name": "python",
   "nbconvert_exporter": "python",
   "pygments_lexer": "ipython3",
   "version": "3.6.3"
  }
 },
 "nbformat": 4,
 "nbformat_minor": 2
}
